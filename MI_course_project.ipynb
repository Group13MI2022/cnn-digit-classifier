{
  "nbformat": 4,
  "nbformat_minor": 0,
  "metadata": {
    "colab": {
      "name": "MI_course_project.ipynb",
      "provenance": [],
      "collapsed_sections": []
    },
    "kernelspec": {
      "name": "python3",
      "display_name": "Python 3"
    }
  },
  "cells": [
    {
      "cell_type": "code",
      "metadata": {
        "id": "023oZGuQHjx9"
      },
      "source": [
        "#program classify handwritten digits to 0 - 9 using CNN"
      ],
      "execution_count": null,
      "outputs": []
    },
    {
      "cell_type": "markdown",
      "metadata": {
        "id": "IHryMc99XdcW"
      },
      "source": [
        "Sequential model help us to build the archetecture for neural network.It is a linear stack of layers.Dense, Conv2D,Flatten help us to create layers for our model. mnist is the dataset that contain images of handwritten digits which we are using in this project,to_categorical is used to convert array of labelled data to one hot vector. matplotlib is used to draw plot of accuracy and to show pictures."
      ]
    },
    {
      "cell_type": "code",
      "metadata": {
        "id": "tP32mVi-IlXo"
      },
      "source": [
        "#import the libraries\r\n",
        "from keras.models import Sequential#helps to build the archetecture for neural network\r\n",
        "from keras.layers import Dense, Conv2D, Flatten\r\n",
        "from keras.datasets import mnist\r\n",
        "from keras.utils import to_categorical\r\n",
        "import matplotlib.pyplot as plt\r\n",
        "import numpy as np\r\n"
      ],
      "execution_count": null,
      "outputs": []
    },
    {
      "cell_type": "markdown",
      "metadata": {
        "id": "-w-ffvKnd3jc"
      },
      "source": [
        "Here we split data into training set and testing set. x_train contain training images and y_train contain training labels.x_test and y_test are testing dataset, x_test contain images for testing and y_test contain lebels to test on."
      ]
    },
    {
      "cell_type": "code",
      "metadata": {
        "id": "a_K3hmtZJkhH",
        "colab": {
          "base_uri": "https://localhost:8080/"
        },
        "outputId": "17fd2f05-cfce-45c4-97a7-d1424cd321f5"
      },
      "source": [
        "#load data into training set and test set\r\n",
        "(x_train,y_train),(x_test,y_test)=mnist.load_data()"
      ],
      "execution_count": null,
      "outputs": [
        {
          "output_type": "stream",
          "text": [
            "Downloading data from https://storage.googleapis.com/tensorflow/tf-keras-datasets/mnist.npz\n",
            "11493376/11490434 [==============================] - 0s 0us/step\n"
          ],
          "name": "stdout"
        }
      ]
    },
    {
      "cell_type": "markdown",
      "metadata": {
        "id": "ox5jBIM7e2uJ"
      },
      "source": [
        "for x_train we get 60000 rows on 28x28 size image and for x_test we get 10000 rows of 28x28 size images."
      ]
    },
    {
      "cell_type": "code",
      "metadata": {
        "colab": {
          "base_uri": "https://localhost:8080/"
        },
        "id": "ndhm2vIEKhW3",
        "outputId": "8db36335-0e2e-4ca3-8577-b9b18daad671"
      },
      "source": [
        "#Get image shape\r\n",
        "print(x_train.shape)\r\n",
        "print(x_test.shape)"
      ],
      "execution_count": null,
      "outputs": [
        {
          "output_type": "stream",
          "text": [
            "(60000, 28, 28)\n",
            "(10000, 28, 28)\n"
          ],
          "name": "stdout"
        }
      ]
    },
    {
      "cell_type": "code",
      "metadata": {
        "colab": {
          "base_uri": "https://localhost:8080/"
        },
        "id": "hlZr2AtoLL6O",
        "outputId": "9a9cf1a9-17c7-4d77-dcfe-f05b2ee5ca07"
      },
      "source": [
        "#first image as array\r\n",
        "x_train[1]#displays image as arrays of its pixel value ranging from 0-253"
      ],
      "execution_count": null,
      "outputs": [
        {
          "output_type": "execute_result",
          "data": {
            "text/plain": [
              "array([[  0,   0,   0,   0,   0,   0,   0,   0,   0,   0,   0,   0,   0,\n",
              "          0,   0,   0,   0,   0,   0,   0,   0,   0,   0,   0,   0,   0,\n",
              "          0,   0],\n",
              "       [  0,   0,   0,   0,   0,   0,   0,   0,   0,   0,   0,   0,   0,\n",
              "          0,   0,   0,   0,   0,   0,   0,   0,   0,   0,   0,   0,   0,\n",
              "          0,   0],\n",
              "       [  0,   0,   0,   0,   0,   0,   0,   0,   0,   0,   0,   0,   0,\n",
              "          0,   0,   0,   0,   0,   0,   0,   0,   0,   0,   0,   0,   0,\n",
              "          0,   0],\n",
              "       [  0,   0,   0,   0,   0,   0,   0,   0,   0,   0,   0,   0,   0,\n",
              "          0,   0,   0,   0,   0,   0,   0,   0,   0,   0,   0,   0,   0,\n",
              "          0,   0],\n",
              "       [  0,   0,   0,   0,   0,   0,   0,   0,   0,   0,   0,   0,   0,\n",
              "          0,   0,  51, 159, 253, 159,  50,   0,   0,   0,   0,   0,   0,\n",
              "          0,   0],\n",
              "       [  0,   0,   0,   0,   0,   0,   0,   0,   0,   0,   0,   0,   0,\n",
              "          0,  48, 238, 252, 252, 252, 237,   0,   0,   0,   0,   0,   0,\n",
              "          0,   0],\n",
              "       [  0,   0,   0,   0,   0,   0,   0,   0,   0,   0,   0,   0,   0,\n",
              "         54, 227, 253, 252, 239, 233, 252,  57,   6,   0,   0,   0,   0,\n",
              "          0,   0],\n",
              "       [  0,   0,   0,   0,   0,   0,   0,   0,   0,   0,   0,  10,  60,\n",
              "        224, 252, 253, 252, 202,  84, 252, 253, 122,   0,   0,   0,   0,\n",
              "          0,   0],\n",
              "       [  0,   0,   0,   0,   0,   0,   0,   0,   0,   0,   0, 163, 252,\n",
              "        252, 252, 253, 252, 252,  96, 189, 253, 167,   0,   0,   0,   0,\n",
              "          0,   0],\n",
              "       [  0,   0,   0,   0,   0,   0,   0,   0,   0,   0,  51, 238, 253,\n",
              "        253, 190, 114, 253, 228,  47,  79, 255, 168,   0,   0,   0,   0,\n",
              "          0,   0],\n",
              "       [  0,   0,   0,   0,   0,   0,   0,   0,   0,  48, 238, 252, 252,\n",
              "        179,  12,  75, 121,  21,   0,   0, 253, 243,  50,   0,   0,   0,\n",
              "          0,   0],\n",
              "       [  0,   0,   0,   0,   0,   0,   0,   0,  38, 165, 253, 233, 208,\n",
              "         84,   0,   0,   0,   0,   0,   0, 253, 252, 165,   0,   0,   0,\n",
              "          0,   0],\n",
              "       [  0,   0,   0,   0,   0,   0,   0,   7, 178, 252, 240,  71,  19,\n",
              "         28,   0,   0,   0,   0,   0,   0, 253, 252, 195,   0,   0,   0,\n",
              "          0,   0],\n",
              "       [  0,   0,   0,   0,   0,   0,   0,  57, 252, 252,  63,   0,   0,\n",
              "          0,   0,   0,   0,   0,   0,   0, 253, 252, 195,   0,   0,   0,\n",
              "          0,   0],\n",
              "       [  0,   0,   0,   0,   0,   0,   0, 198, 253, 190,   0,   0,   0,\n",
              "          0,   0,   0,   0,   0,   0,   0, 255, 253, 196,   0,   0,   0,\n",
              "          0,   0],\n",
              "       [  0,   0,   0,   0,   0,   0,  76, 246, 252, 112,   0,   0,   0,\n",
              "          0,   0,   0,   0,   0,   0,   0, 253, 252, 148,   0,   0,   0,\n",
              "          0,   0],\n",
              "       [  0,   0,   0,   0,   0,   0,  85, 252, 230,  25,   0,   0,   0,\n",
              "          0,   0,   0,   0,   0,   7, 135, 253, 186,  12,   0,   0,   0,\n",
              "          0,   0],\n",
              "       [  0,   0,   0,   0,   0,   0,  85, 252, 223,   0,   0,   0,   0,\n",
              "          0,   0,   0,   0,   7, 131, 252, 225,  71,   0,   0,   0,   0,\n",
              "          0,   0],\n",
              "       [  0,   0,   0,   0,   0,   0,  85, 252, 145,   0,   0,   0,   0,\n",
              "          0,   0,   0,  48, 165, 252, 173,   0,   0,   0,   0,   0,   0,\n",
              "          0,   0],\n",
              "       [  0,   0,   0,   0,   0,   0,  86, 253, 225,   0,   0,   0,   0,\n",
              "          0,   0, 114, 238, 253, 162,   0,   0,   0,   0,   0,   0,   0,\n",
              "          0,   0],\n",
              "       [  0,   0,   0,   0,   0,   0,  85, 252, 249, 146,  48,  29,  85,\n",
              "        178, 225, 253, 223, 167,  56,   0,   0,   0,   0,   0,   0,   0,\n",
              "          0,   0],\n",
              "       [  0,   0,   0,   0,   0,   0,  85, 252, 252, 252, 229, 215, 252,\n",
              "        252, 252, 196, 130,   0,   0,   0,   0,   0,   0,   0,   0,   0,\n",
              "          0,   0],\n",
              "       [  0,   0,   0,   0,   0,   0,  28, 199, 252, 252, 253, 252, 252,\n",
              "        233, 145,   0,   0,   0,   0,   0,   0,   0,   0,   0,   0,   0,\n",
              "          0,   0],\n",
              "       [  0,   0,   0,   0,   0,   0,   0,  25, 128, 252, 253, 252, 141,\n",
              "         37,   0,   0,   0,   0,   0,   0,   0,   0,   0,   0,   0,   0,\n",
              "          0,   0],\n",
              "       [  0,   0,   0,   0,   0,   0,   0,   0,   0,   0,   0,   0,   0,\n",
              "          0,   0,   0,   0,   0,   0,   0,   0,   0,   0,   0,   0,   0,\n",
              "          0,   0],\n",
              "       [  0,   0,   0,   0,   0,   0,   0,   0,   0,   0,   0,   0,   0,\n",
              "          0,   0,   0,   0,   0,   0,   0,   0,   0,   0,   0,   0,   0,\n",
              "          0,   0],\n",
              "       [  0,   0,   0,   0,   0,   0,   0,   0,   0,   0,   0,   0,   0,\n",
              "          0,   0,   0,   0,   0,   0,   0,   0,   0,   0,   0,   0,   0,\n",
              "          0,   0],\n",
              "       [  0,   0,   0,   0,   0,   0,   0,   0,   0,   0,   0,   0,   0,\n",
              "          0,   0,   0,   0,   0,   0,   0,   0,   0,   0,   0,   0,   0,\n",
              "          0,   0]], dtype=uint8)"
            ]
          },
          "metadata": {
            "tags": []
          },
          "execution_count": 4
        }
      ]
    },
    {
      "cell_type": "code",
      "metadata": {
        "colab": {
          "base_uri": "https://localhost:8080/"
        },
        "id": "Q8V2XRl8LWQQ",
        "outputId": "f74150e1-0210-4a3d-a34e-9f980dbfc497"
      },
      "source": [
        "y_train[1]#Get image label"
      ],
      "execution_count": null,
      "outputs": [
        {
          "output_type": "execute_result",
          "data": {
            "text/plain": [
              "0"
            ]
          },
          "metadata": {
            "tags": []
          },
          "execution_count": 5
        }
      ]
    },
    {
      "cell_type": "markdown",
      "metadata": {
        "id": "P77zBnNjg1lo"
      },
      "source": [
        "Here we use matplotlib to display the image."
      ]
    },
    {
      "cell_type": "code",
      "metadata": {
        "colab": {
          "base_uri": "https://localhost:8080/",
          "height": 282
        },
        "id": "zQREv31dLi0h",
        "outputId": "e78e764c-e6f4-4607-e803-c63f6cd23fd9"
      },
      "source": [
        "#Display image\r\n",
        "plt.imshow(x_train[1])"
      ],
      "execution_count": null,
      "outputs": [
        {
          "output_type": "execute_result",
          "data": {
            "text/plain": [
              "<matplotlib.image.AxesImage at 0x7fd0b9570b70>"
            ]
          },
          "metadata": {
            "tags": []
          },
          "execution_count": 6
        },
        {
          "output_type": "display_data",
          "data": {
            "image/png": "[encoded data removed]",
            "text/plain": [
              "<Figure size 432x288 with 1 Axes>"
            ]
          },
          "metadata": {
            "tags": [],
            "needs_background": "light"
          }
        }
      ]
    },
    {
      "cell_type": "markdown",
      "metadata": {
        "id": "Su-nfAYbhlTC"
      },
      "source": [
        "Here we reshape the images belonging to train and testing dataset to 28x28 dimension and they are converted to grayscale."
      ]
    },
    {
      "cell_type": "code",
      "metadata": {
        "id": "lImaJK2sMNDS"
      },
      "source": [
        "#Reshape the data to fit the model\r\n",
        "x_train=x_train.reshape(60000,28,28,1)\r\n",
        "x_test=x_test.reshape(10000,28,28,1)"
      ],
      "execution_count": null,
      "outputs": []
    },
    {
      "cell_type": "markdown",
      "metadata": {
        "id": "Vr9EnKnTjW-i"
      },
      "source": [
        "Here we are processing labels of images, for that we are perform one-hot encoding using to_categorical. Labels will be processed into a binary vector, The magnitude of digit will be shown by index value of 1 in a one dimensional list. When we print element at index 1 of y_train dataset which is '0' after one-hot encoding we get a list with '1' at zeroth index and rest will be zeros."
      ]
    },
    {
      "cell_type": "code",
      "metadata": {
        "colab": {
          "base_uri": "https://localhost:8080/"
        },
        "id": "h5V-Pi8SNZo9",
        "outputId": "4e7a3dba-d205-47ca-dfee-87a858cee00a"
      },
      "source": [
        "#one hot encoding\r\n",
        "y_train_one_hot=to_categorical(y_train)\r\n",
        "y_test_one_hot=to_categorical(y_test)\r\n",
        "print(y_train_one_hot[1])"
      ],
      "execution_count": null,
      "outputs": [
        {
          "output_type": "stream",
          "text": [
            "[1. 0. 0. 0. 0. 0. 0. 0. 0. 0.]\n"
          ],
          "name": "stdout"
        }
      ]
    },
    {
      "cell_type": "markdown",
      "metadata": {
        "id": "vbPuwqGUi5Um"
      },
      "source": [
        "Here we are creating the CNN model. We use sequential for building the archetecture of our model. Next, we add layers to our model. Conv2D is a convolution layer to extract features from input layer.This layer creates a convolution kernel that is convolved with the layer input to produce a tensor of outputs.64 is given as number of kernals, kernal_size is given as 3, so it will be a 3x3 kernal. Activation function is 'relu' (rectified linear activation function) it is a piecewise linear function that will output the input directly if it is positive, otherwise, it will output zero, input_shabe will be given as the size of image we are giving (28x28x1).\r\n",
        "After that create one more Conv2D layer with number of kernals 32 and kernal_size 3 with 'relu' as activation function.Then add a flatten layer, its going to convert images to one dimensional array. Our last layer will be a dense layer,dense layer is a neural network layer that is connected deeply, which means each neuron in the dense layer receives input from all neurons of its previous layer. This layer contain 10 neurons representing 10 digits (0-9), activation function used in this layer is 'softmax', it is used as the activation function in the output layer of neural network models that predict a multinomial probability distribution"
      ]
    },
    {
      "cell_type": "code",
      "metadata": {
        "id": "qg6gNy2CJ0-x"
      },
      "source": [
        "#Build CNN model\r\n",
        "model = Sequential()\r\n",
        "#add model layers\r\n",
        "model.add(Conv2D(64, kernel_size=3, activation='relu', input_shape=(28,28,1)))\r\n",
        "model.add(Conv2D(32,kernel_size=3,activation='relu'))\r\n",
        "model.add(Flatten())\r\n",
        "model.add(Dense(10,activation='softmax'))\r\n",
        "\r\n"
      ],
      "execution_count": null,
      "outputs": []
    },
    {
      "cell_type": "markdown",
      "metadata": {
        "id": "R8eJJlvs87s-"
      },
      "source": [
        "Here we are compiling our model using model.compile(), It takes three parameters. Optimizer is 'adam', Adam is an optimization algorithm that can be used instead of the classical stochastic gradient descent procedure to update network weights iterative based in training data. Categorical crossentropy is given as loss function, it is used if number of classes are greater than 2, in our case we got 10 classes. Matrics is givn to check accuracy."
      ]
    },
    {
      "cell_type": "code",
      "metadata": {
        "id": "jMFz85s_Otsj"
      },
      "source": [
        "#compile model\r\n",
        "model.compile(optimizer='adam', loss='categorical_crossentropy', metrics=['accuracy'])"
      ],
      "execution_count": null,
      "outputs": []
    },
    {
      "cell_type": "markdown",
      "metadata": {
        "id": "xXS-ylNdBQQ2"
      },
      "source": [
        "Here we are training our model, First we create a variable called 'hist'. As parameters we give dataset x_train and y_train_one_hot which contain processed image and labels respectively. The test dataset is given as validation data. Number of epochs is given as 3,The number of epochs is a hyperparameter that defines the number times that the learning algorithm will work through the entire training dataset.\r\n",
        "Once training is complete we have 98.69% accuracy on training data and 97.80% accuracy on validation dataset."
      ]
    },
    {
      "cell_type": "code",
      "metadata": {
        "colab": {
          "base_uri": "https://localhost:8080/"
        },
        "id": "gSMB_Hq0PuZu",
        "outputId": "c57e6797-0ab2-49ab-bf4f-661acdbc7557"
      },
      "source": [
        "#Train the model\r\n",
        "hist=model.fit(x_train,y_train_one_hot, validation_data=(x_test,y_test_one_hot),epochs=3)"
      ],
      "execution_count": null,
      "outputs": [
        {
          "output_type": "stream",
          "text": [
            "Epoch 1/3\n",
            "1875/1875 [==============================] - 144s 77ms/step - loss: 0.7884 - accuracy: 0.9126 - val_loss: 0.1036 - val_accuracy: 0.9723\n",
            "Epoch 2/3\n",
            "1875/1875 [==============================] - 143s 76ms/step - loss: 0.0677 - accuracy: 0.9785 - val_loss: 0.0776 - val_accuracy: 0.9780\n",
            "Epoch 3/3\n",
            "1875/1875 [==============================] - 144s 77ms/step - loss: 0.0409 - accuracy: 0.9869 - val_loss: 0.0827 - val_accuracy: 0.9780\n"
          ],
          "name": "stdout"
        }
      ]
    },
    {
      "cell_type": "markdown",
      "metadata": {
        "id": "35gZV-UAEZIr"
      },
      "source": [
        "Here we use matplotlib to visualize accuracy rate of our model. The orange line represent accuracy rate on validation data and blue line represent training dataset. With x axis showing epoch. "
      ]
    },
    {
      "cell_type": "code",
      "metadata": {
        "colab": {
          "base_uri": "https://localhost:8080/",
          "height": 295
        },
        "id": "IuyY3th6T57d",
        "outputId": "06d15ced-4e0c-4140-b3fb-9b6978c30bd6"
      },
      "source": [
        "#visualize model accuracy\r\n",
        "plt.plot(hist.history['accuracy'])\r\n",
        "plt.plot(hist.history['val_accuracy'])\r\n",
        "plt.title('Model accuracy')\r\n",
        "plt.ylabel('Accuracy')\r\n",
        "plt.xlabel('Epoch')\r\n",
        "plt.legend(['Train','Validation'], loc='upper left')\r\n",
        "plt.show()"
      ],
      "execution_count": null,
      "outputs": [
        {
          "output_type": "display_data",
          "data": {
            "image/png": "[encoded data removed]",
            "text/plain": [
              "<Figure size 432x288 with 1 Axes>"
            ]
          },
          "metadata": {
            "tags": [],
            "needs_background": "light"
          }
        }
      ]
    },
    {
      "cell_type": "markdown",
      "metadata": {
        "id": "zyRlBv9fLjWv"
      },
      "source": [
        "In this cell we are predicting the digits using our model. We are predicting images from index 4 to 9, using model.predict(). Output will be an array, containing 5 list inside, representing five digits we are predicting.Each list contain 10 elements, each element represent probability of occurance of 10 digits (0-9). The index with highest probability represent the value of digit.\r\n",
        "But the output will be in probabilities, which is really hard to understand."
      ]
    },
    {
      "cell_type": "code",
      "metadata": {
        "colab": {
          "base_uri": "https://localhost:8080/"
        },
        "id": "KkU-gbu6WaH9",
        "outputId": "f019470a-e69b-444a-b31f-b8afa0a2c728"
      },
      "source": [
        "#show predictions as probabilities for 5 image from index 4 to 9\r\n",
        "predictions=model.predict(x_test[4:9])\r\n",
        "predictions"
      ],
      "execution_count": null,
      "outputs": [
        {
          "output_type": "execute_result",
          "data": {
            "text/plain": [
              "array([[3.5334113e-10, 5.3598523e-12, 3.9939563e-10, 4.4068724e-10,\n",
              "        9.9997783e-01, 3.4456844e-11, 9.2575156e-08, 3.9603836e-09,\n",
              "        9.5980589e-08, 2.1971666e-05],\n",
              "       [1.3910871e-09, 9.9997759e-01, 6.3828820e-10, 7.0027074e-12,\n",
              "        7.8539852e-06, 2.0984335e-10, 1.3214431e-09, 1.3719506e-05,\n",
              "        6.7122312e-07, 1.3176667e-07],\n",
              "       [6.1749200e-12, 8.0146043e-07, 4.1530277e-09, 3.0007953e-08,\n",
              "        9.9731487e-01, 5.8066598e-07, 1.9089894e-09, 2.4838789e-07,\n",
              "        2.4936651e-03, 1.8979427e-04],\n",
              "       [1.4047336e-10, 1.1074663e-08, 5.5190640e-06, 3.8784019e-06,\n",
              "        1.1721443e-02, 2.9021599e-05, 2.6610234e-09, 4.2645927e-09,\n",
              "        4.1809417e-06, 9.8823601e-01],\n",
              "       [1.4922617e-07, 6.4352203e-17, 5.7438337e-10, 8.1954834e-12,\n",
              "        1.0988450e-13, 6.5664536e-01, 3.4286252e-01, 2.0848892e-15,\n",
              "        4.9197703e-04, 1.1270102e-09]], dtype=float32)"
            ]
          },
          "metadata": {
            "tags": []
          },
          "execution_count": 16
        }
      ]
    },
    {
      "cell_type": "markdown",
      "metadata": {
        "id": "4_PEMsVkMejb"
      },
      "source": [
        "To understand the output easily we are converting the array of probabilities to the label value, It is done by finding maximum value of probability in each list and then converting them into corresponding value of element."
      ]
    },
    {
      "cell_type": "code",
      "metadata": {
        "colab": {
          "base_uri": "https://localhost:8080/"
        },
        "id": "BSbQ-hA6ZJOc",
        "outputId": "96ce9bd5-f0c7-4e47-a7ea-bb5c6dbea68d"
      },
      "source": [
        "#print prediction as number labels for first 5 images\r\n",
        "print('The predicted digits from images',np.argmax(predictions,axis=1))\r\n",
        "#print actual labels\r\n",
        "print('Actual labels of images from test dataset',y_test[4:9])"
      ],
      "execution_count": null,
      "outputs": [
        {
          "output_type": "stream",
          "text": [
            "The predicted digits from images [4 1 4 9 5]\n",
            "Actual labels of images from test dataset [4 1 4 9 5]\n"
          ],
          "name": "stdout"
        }
      ]
    },
    {
      "cell_type": "markdown",
      "metadata": {
        "id": "s1YjM5CTO1Up"
      },
      "source": [
        "Here the predicted values of digit from image is same as labelled value of image."
      ]
    }
  ]
}